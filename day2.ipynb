{
 "cells": [
  {
   "cell_type": "code",
   "execution_count": 1,
   "metadata": {},
   "outputs": [],
   "source": [
    "# A = Rock\n",
    "# B = Paper \n",
    "# C = Scissors\n",
    "# X = Rock\n",
    "# Y = Paper\n",
    "# Z = Scissors\n",
    "\n",
    "# Win -> 6 pts, draw -> 3 pts, lose -> 0 pt\n",
    "results = {\n",
    "    'A': { # Rock\n",
    "        'X': 3 + 1, # Rock\n",
    "        'Y': 6 + 2, # Paper\n",
    "        'Z': 0 + 3 # Scissors\n",
    "    },\n",
    "    'B': { # Paper\n",
    "        'X': 0 + 1, # Rock\n",
    "        'Y': 3 + 2, # Paper\n",
    "        'Z': 6 + 3 # Scissors\n",
    "    },\n",
    "    'C': { # Scissors\n",
    "        'X': 6 + 1, # Rock\n",
    "        'Y': 0 + 2, # Paper\n",
    "        'Z': 3 + 3 # Scissors\n",
    "    }\n",
    "}"
   ]
  },
  {
   "cell_type": "code",
   "execution_count": 2,
   "metadata": {},
   "outputs": [],
   "source": [
    "strategy = open('input/day2.txt', 'r')\n",
    "total_points = 0\n",
    "\n",
    "while True:\n",
    "    round = strategy.readline()\n",
    "\n",
    "    if not round:\n",
    "        break\n",
    "    \n",
    "    round = round.replace('\\n', '').split(' ')\n",
    "\n",
    "    #print(f'{round[0]} vs {round[1]}: {results[round[0]][round[1]]}')\n",
    "\n",
    "    total_points = total_points + results[round[0]][round[1]]\n",
    "\n",
    "\n",
    "strategy.close()"
   ]
  },
  {
   "cell_type": "code",
   "execution_count": 3,
   "metadata": {},
   "outputs": [
    {
     "name": "stdout",
     "output_type": "stream",
     "text": [
      "10994\n"
     ]
    }
   ],
   "source": [
    "print (total_points)"
   ]
  },
  {
   "cell_type": "code",
   "execution_count": 4,
   "metadata": {},
   "outputs": [],
   "source": [
    "# A = Rock\n",
    "# B = Paper \n",
    "# C = Scissors\n",
    "# X = to lose\n",
    "# Y = to tie\n",
    "# Z = to win\n",
    "\n",
    "# Win -> 6 pts, draw -> 3 pts, lose -> 0 pt\n",
    "results_round2 = {\n",
    "    'A': { # Rock\n",
    "        'X': 0 + 3, # lose with scissors\n",
    "        'Y': 3 + 1, # tie with rock\n",
    "        'Z': 6 + 2 # win with paper\n",
    "    },\n",
    "    'B': { # Paper\n",
    "        'X': 0 + 1, # lose with rock\n",
    "        'Y': 3 + 2, # tie with paper\n",
    "        'Z': 6 + 3 # win with scissors\n",
    "    },\n",
    "    'C': { # Scissors\n",
    "        'X': 0 + 2, # lose with paper\n",
    "        'Y': 3 + 3, # tie with scissors\n",
    "        'Z': 6 + 1 # win with rock\n",
    "    }\n",
    "}"
   ]
  },
  {
   "cell_type": "code",
   "execution_count": 5,
   "metadata": {},
   "outputs": [],
   "source": [
    "strategy = open('input/day2.txt', 'r')\n",
    "total_points = 0\n",
    "\n",
    "while True:\n",
    "    round = strategy.readline()\n",
    "\n",
    "    if not round:\n",
    "        break\n",
    "    \n",
    "    round = round.replace('\\n', '').split(' ')\n",
    "\n",
    "    total_points = total_points + results_round2[round[0]][round[1]]\n",
    "\n",
    "\n",
    "strategy.close()"
   ]
  },
  {
   "cell_type": "code",
   "execution_count": 6,
   "metadata": {},
   "outputs": [
    {
     "name": "stdout",
     "output_type": "stream",
     "text": [
      "12526\n"
     ]
    }
   ],
   "source": [
    "print (total_points)"
   ]
  }
 ],
 "metadata": {
  "kernelspec": {
   "display_name": "Python 3.10.7 64-bit",
   "language": "python",
   "name": "python3"
  },
  "language_info": {
   "codemirror_mode": {
    "name": "ipython",
    "version": 3
   },
   "file_extension": ".py",
   "mimetype": "text/x-python",
   "name": "python",
   "nbconvert_exporter": "python",
   "pygments_lexer": "ipython3",
   "version": "3.10.7"
  },
  "orig_nbformat": 4,
  "vscode": {
   "interpreter": {
    "hash": "d3e10ef16274dd72e574b8fa73b58450b957d8421a2901baded3cca26fcf5dda"
   }
  }
 },
 "nbformat": 4,
 "nbformat_minor": 2
}
