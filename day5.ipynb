{
 "cells": [
  {
   "cell_type": "code",
   "execution_count": 1,
   "metadata": {},
   "outputs": [],
   "source": [
    "# Day 5\n",
    "# Starting stack:\n",
    "# [N] [G]                     [Q]    \n",
    "# [H] [B]         [B] [R]     [H]    \n",
    "# [S] [N]     [Q] [M] [T]     [Z]    \n",
    "# [J] [T]     [R] [V] [H]     [R] [S]\n",
    "# [F] [Q]     [W] [T] [V] [J] [V] [M]\n",
    "# [W] [P] [V] [S] [F] [B] [Q] [J] [H]\n",
    "# [T] [R] [Q] [B] [D] [D] [B] [N] [N]\n",
    "# [D] [H] [L] [N] [N] [M] [D] [D] [B]\n",
    "#  1   2   3   4   5   6   7   8   9 "
   ]
  },
  {
   "cell_type": "code",
   "execution_count": 4,
   "metadata": {},
   "outputs": [],
   "source": [
    "import re\n",
    "\n",
    "stacks = [\n",
    "    [ 'D', 'T', 'W', 'F', 'J', 'S', 'H', 'N' ],\n",
    "    [ 'H', 'R', 'P', 'Q', 'T', 'N', 'B', 'G' ],\n",
    "    [ 'L', 'Q', 'V' ],\n",
    "    [ 'N', 'B', 'S', 'W', 'R', 'Q' ],\n",
    "    [ 'N', 'D', 'F', 'T', 'V', 'M', 'B' ],\n",
    "    [ 'M', 'D', 'B', 'V', 'H', 'T', 'R' ],\n",
    "    [ 'D', 'B', 'Q', 'J' ],\n",
    "    [ 'D', 'N', 'J', 'V', 'R', 'Z', 'H', 'Q' ],\n",
    "    [ 'B', 'N', 'H', 'M', 'S']\n",
    "]"
   ]
  },
  {
   "cell_type": "code",
   "execution_count": 35,
   "metadata": {},
   "outputs": [],
   "source": [
    "instructions = open('input/day5.txt', 'r')\n",
    "\n",
    "while True:\n",
    "    instruction = instructions.readline()\n",
    "\n",
    "    if not instruction:\n",
    "        break\n",
    "\n",
    "\n",
    "    numbers = re.findall(r'\\d+', instruction)\n",
    "    \n",
    "    move, move_from, move_to = int(numbers[0]), int(numbers[1]) - 1, int(numbers[2]) - 1\n",
    "\n",
    "    for _ in range(move):\n",
    "        item = stacks[move_from].pop()\n",
    "        stacks[move_to].append(item)\n",
    "\n",
    "instructions.close()"
   ]
  },
  {
   "cell_type": "code",
   "execution_count": 36,
   "metadata": {},
   "outputs": [
    {
     "data": {
      "text/plain": [
       "[['G'],\n",
       " ['R'],\n",
       " ['V', 'S', 'T', 'T'],\n",
       " ['D', 'N', 'R', 'W', 'S'],\n",
       " ['F', 'V', 'B', 'T', 'B', 'J', 'D', 'M', 'W'],\n",
       " ['Q', 'D', 'B', 'Q', 'P', 'Q', 'F', 'M', 'V', 'N'],\n",
       " ['N', 'J'],\n",
       " ['J', 'B', 'N', 'T', 'L', 'H', 'M', 'D', 'R', 'D', 'H', 'N', 'H'],\n",
       " ['N', 'V', 'Q', 'R', 'S', 'B', 'B', 'Z', 'H', 'Q', 'H']]"
      ]
     },
     "execution_count": 36,
     "metadata": {},
     "output_type": "execute_result"
    }
   ],
   "source": [
    "stacks"
   ]
  },
  {
   "cell_type": "code",
   "execution_count": 42,
   "metadata": {},
   "outputs": [],
   "source": [
    "stacks = [\n",
    "    [ 'D', 'T', 'W', 'F', 'J', 'S', 'H', 'N' ],\n",
    "    [ 'H', 'R', 'P', 'Q', 'T', 'N', 'B', 'G' ],\n",
    "    [ 'L', 'Q', 'V' ],\n",
    "    [ 'N', 'B', 'S', 'W', 'R', 'Q' ],\n",
    "    [ 'N', 'D', 'F', 'T', 'V', 'M', 'B' ],\n",
    "    [ 'M', 'D', 'B', 'V', 'H', 'T', 'R' ],\n",
    "    [ 'D', 'B', 'Q', 'J' ],\n",
    "    [ 'D', 'N', 'J', 'V', 'R', 'Z', 'H', 'Q' ],\n",
    "    [ 'B', 'N', 'H', 'M', 'S']\n",
    "]"
   ]
  },
  {
   "cell_type": "code",
   "execution_count": 43,
   "metadata": {},
   "outputs": [],
   "source": [
    "instructions = open('input/day5.txt', 'r')\n",
    "\n",
    "while True:\n",
    "    instruction = instructions.readline()\n",
    "\n",
    "    if not instruction:\n",
    "        break\n",
    "\n",
    "\n",
    "    numbers = re.findall(r'\\d+', instruction)\n",
    "    \n",
    "    move, move_from, move_to = int(numbers[0]), int(numbers[1]) - 1, int(numbers[2]) - 1\n",
    "    pos = len(stacks[move_from]) - move\n",
    "\n",
    "    stacks[move_to] = stacks[move_to] + stacks[move_from][pos:]\n",
    "    stacks[move_from] = stacks[move_from][:pos]\n",
    "\n",
    "instructions.close()"
   ]
  },
  {
   "cell_type": "code",
   "execution_count": 44,
   "metadata": {},
   "outputs": [
    {
     "data": {
      "text/plain": [
       "[['Q'],\n",
       " ['L'],\n",
       " ['M', 'H', 'R', 'F'],\n",
       " ['S', 'T', 'M', 'J', 'Q'],\n",
       " ['D', 'S', 'Q', 'N', 'V', 'T', 'H', 'W', 'D'],\n",
       " ['D', 'J', 'N', 'R', 'H', 'B', 'B', 'F', 'T', 'B'],\n",
       " ['N', 'B'],\n",
       " ['J', 'P', 'Q', 'Q', 'N', 'S', 'W', 'R', 'V', 'V', 'T', 'D', 'H'],\n",
       " ['R', 'V', 'G', 'D', 'B', 'Z', 'H', 'N', 'N', 'B', 'M']]"
      ]
     },
     "execution_count": 44,
     "metadata": {},
     "output_type": "execute_result"
    }
   ],
   "source": [
    "stacks"
   ]
  }
 ],
 "metadata": {
  "kernelspec": {
   "display_name": "Python 3.10.7 64-bit",
   "language": "python",
   "name": "python3"
  },
  "language_info": {
   "codemirror_mode": {
    "name": "ipython",
    "version": 3
   },
   "file_extension": ".py",
   "mimetype": "text/x-python",
   "name": "python",
   "nbconvert_exporter": "python",
   "pygments_lexer": "ipython3",
   "version": "3.10.7"
  },
  "orig_nbformat": 4,
  "vscode": {
   "interpreter": {
    "hash": "d3e10ef16274dd72e574b8fa73b58450b957d8421a2901baded3cca26fcf5dda"
   }
  }
 },
 "nbformat": 4,
 "nbformat_minor": 2
}
