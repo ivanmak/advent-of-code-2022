{
 "cells": [
  {
   "cell_type": "code",
   "execution_count": 6,
   "metadata": {},
   "outputs": [],
   "source": [
    "def fully_contained(line):\n",
    "    elves = line.replace('\\n', '').split(',')\n",
    "    elf_a_start, elf_a_end = int(elves[0].split('-')[0]), int(elves[0].split('-')[1])\n",
    "    elf_b_start, elf_b_end = int(elves[1].split('-')[0]), int(elves[1].split('-')[1])\n",
    "\n",
    "    if (elf_a_start <= elf_b_start and elf_a_end >= elf_b_end) or (elf_b_start <= elf_a_start and elf_b_end >= elf_a_end):\n",
    "        return True\n",
    "    return False"
   ]
  },
  {
   "cell_type": "code",
   "execution_count": 7,
   "metadata": {},
   "outputs": [],
   "source": [
    "elf_pairs = open('input/day4.txt', 'r')\n",
    "fully_contained_pairs = 0\n",
    "while True:\n",
    "    elf_pair = elf_pairs.readline()\n",
    "\n",
    "    if not elf_pair:\n",
    "        break\n",
    "\n",
    "    if fully_contained(elf_pair):\n",
    "        fully_contained_pairs = fully_contained_pairs + 1\n",
    "\n",
    "elf_pairs.close()"
   ]
  },
  {
   "cell_type": "code",
   "execution_count": 8,
   "metadata": {},
   "outputs": [
    {
     "name": "stdout",
     "output_type": "stream",
     "text": [
      "584\n"
     ]
    }
   ],
   "source": [
    "print(fully_contained_pairs)"
   ]
  },
  {
   "cell_type": "code",
   "execution_count": 9,
   "metadata": {},
   "outputs": [],
   "source": [
    "def overlapping(line):\n",
    "    elves = line.replace('\\n', '').split(',')\n",
    "    elf_a_start, elf_a_end = int(elves[0].split('-')[0]), int(elves[0].split('-')[1])\n",
    "    elf_b_start, elf_b_end = int(elves[1].split('-')[0]), int(elves[1].split('-')[1])\n",
    "\n",
    "    if (elf_a_start <= elf_b_start and elf_a_end >= elf_b_start) or (elf_b_start <= elf_a_start and elf_b_end >= elf_a_start):\n",
    "        return True\n",
    "    return False"
   ]
  },
  {
   "cell_type": "code",
   "execution_count": 10,
   "metadata": {},
   "outputs": [],
   "source": [
    "elf_pairs = open('input/day4.txt', 'r')\n",
    "overlapping_pairs = 0\n",
    "while True:\n",
    "    elf_pair = elf_pairs.readline()\n",
    "\n",
    "    if not elf_pair:\n",
    "        break\n",
    "\n",
    "    if overlapping(elf_pair):\n",
    "        overlapping_pairs = overlapping_pairs + 1\n",
    "\n",
    "elf_pairs.close()"
   ]
  },
  {
   "cell_type": "code",
   "execution_count": 11,
   "metadata": {},
   "outputs": [
    {
     "name": "stdout",
     "output_type": "stream",
     "text": [
      "933\n"
     ]
    }
   ],
   "source": [
    "print(overlapping_pairs)"
   ]
  }
 ],
 "metadata": {
  "kernelspec": {
   "display_name": "Python 3.10.7 64-bit",
   "language": "python",
   "name": "python3"
  },
  "language_info": {
   "codemirror_mode": {
    "name": "ipython",
    "version": 3
   },
   "file_extension": ".py",
   "mimetype": "text/x-python",
   "name": "python",
   "nbconvert_exporter": "python",
   "pygments_lexer": "ipython3",
   "version": "3.10.7"
  },
  "orig_nbformat": 4,
  "vscode": {
   "interpreter": {
    "hash": "d3e10ef16274dd72e574b8fa73b58450b957d8421a2901baded3cca26fcf5dda"
   }
  }
 },
 "nbformat": 4,
 "nbformat_minor": 2
}
