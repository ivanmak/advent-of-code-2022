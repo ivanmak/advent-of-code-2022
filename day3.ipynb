{
 "cells": [
  {
   "cell_type": "code",
   "execution_count": 1,
   "metadata": {},
   "outputs": [],
   "source": [
    "def item_priority(item):\n",
    "    if item.isupper():\n",
    "        return ord(item) - 38\n",
    "    else:\n",
    "        return ord(item) - 96"
   ]
  },
  {
   "cell_type": "code",
   "execution_count": 2,
   "metadata": {},
   "outputs": [],
   "source": [
    "rucksacks = open('input/day3.txt', 'r')\n",
    "total_priority = 0 \n",
    "while True:\n",
    "\n",
    "    rucksack = rucksacks.readline()\n",
    "\n",
    "    if not rucksack:\n",
    "        break\n",
    "\n",
    "    half = int(len(rucksack) / 2)\n",
    "\n",
    "    compartment1, compartment2 = rucksack[:half], rucksack[half:]\n",
    "\n",
    "    shared_items = set(compartment1).intersection(compartment2)\n",
    "\n",
    "    for item in shared_items:\n",
    "        priority = item_priority(item)\n",
    "        total_priority = total_priority + priority\n",
    "\n",
    "rucksacks.close()"
   ]
  },
  {
   "cell_type": "code",
   "execution_count": 3,
   "metadata": {},
   "outputs": [
    {
     "name": "stdout",
     "output_type": "stream",
     "text": [
      "8394\n"
     ]
    }
   ],
   "source": [
    "print(total_priority)"
   ]
  },
  {
   "cell_type": "code",
   "execution_count": 4,
   "metadata": {},
   "outputs": [],
   "source": [
    "rucksacks = open('input/day3.txt', 'r')\n",
    "elf_group = []\n",
    "total_priority = 0\n",
    "\n",
    "while True:\n",
    "\n",
    "    rucksack = rucksacks.readline()\n",
    "\n",
    "    if not rucksack:\n",
    "        break\n",
    "    \n",
    "    \n",
    "    rucksack = rucksack.replace('\\n', '')\n",
    "\n",
    "    elf_group.append(rucksack)\n",
    "        \n",
    "    if len(elf_group) == 3:\n",
    "        common_item = set(elf_group[0]).intersection(set(elf_group[1])).intersection(set(elf_group[2]))\n",
    "        common_item = list(common_item)\n",
    "        \n",
    "        priority = item_priority(common_item[0])\n",
    "\n",
    "        total_priority = total_priority + priority\n",
    "\n",
    "        elf_group = []\n",
    "\n",
    "rucksacks.close()"
   ]
  },
  {
   "cell_type": "code",
   "execution_count": 43,
   "metadata": {},
   "outputs": [
    {
     "name": "stdout",
     "output_type": "stream",
     "text": [
      "2413\n"
     ]
    }
   ],
   "source": [
    "print(total_priority)"
   ]
  }
 ],
 "metadata": {
  "kernelspec": {
   "display_name": "Python 3.10.7 64-bit",
   "language": "python",
   "name": "python3"
  },
  "language_info": {
   "codemirror_mode": {
    "name": "ipython",
    "version": 3
   },
   "file_extension": ".py",
   "mimetype": "text/x-python",
   "name": "python",
   "nbconvert_exporter": "python",
   "pygments_lexer": "ipython3",
   "version": "3.10.7"
  },
  "orig_nbformat": 4,
  "vscode": {
   "interpreter": {
    "hash": "d3e10ef16274dd72e574b8fa73b58450b957d8421a2901baded3cca26fcf5dda"
   }
  }
 },
 "nbformat": 4,
 "nbformat_minor": 2
}
