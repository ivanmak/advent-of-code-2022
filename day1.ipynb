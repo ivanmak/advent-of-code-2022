{
 "cells": [
  {
   "cell_type": "markdown",
   "metadata": {},
   "source": [
    "# Advent of Code 2022 Day 1 Puzzle\n",
    "## https://adventofcode.com/2022/day/1"
   ]
  },
  {
   "cell_type": "code",
   "execution_count": 1,
   "metadata": {},
   "outputs": [
    {
     "name": "stdout",
     "output_type": "stream",
     "text": [
      "70613\n",
      "68330\n",
      "66862\n"
     ]
    }
   ],
   "source": [
    "elves = []\n",
    "elf = []\n",
    "\n",
    "input = open('input/day1.txt', 'r')\n",
    "while True:\n",
    "    item = input.readline()\n",
    "\n",
    "    if (not item) or (item.isspace()):\n",
    "        if len(elf) > 0:\n",
    "            elves.append(elf)\n",
    "            elf = []\n",
    "        if not item:\n",
    "            break\n",
    "    else:\n",
    "        try:\n",
    "            item = int(item)\n",
    "        except:\n",
    "            continue\n",
    "        else:\n",
    "            elf.append(item)\n",
    "\n",
    "input.close()\n",
    "\n",
    "elves_sorted = sorted(elves, reverse=True, key=lambda x: sum(x))\n",
    "print(sum(elves_sorted[0]))\n",
    "print(sum(elves_sorted[1]))\n",
    "print(sum(elves_sorted[2]))"
   ]
  },
  {
   "cell_type": "code",
   "execution_count": 2,
   "metadata": {},
   "outputs": [
    {
     "data": {
      "text/plain": [
       "205805"
      ]
     },
     "execution_count": 2,
     "metadata": {},
     "output_type": "execute_result"
    }
   ],
   "source": [
    "sum(elves_sorted[0]) + sum(elves_sorted[1]) + sum(elves_sorted[2])"
   ]
  }
 ],
 "metadata": {
  "kernelspec": {
   "display_name": "Python 3.10.7 64-bit",
   "language": "python",
   "name": "python3"
  },
  "language_info": {
   "codemirror_mode": {
    "name": "ipython",
    "version": 3
   },
   "file_extension": ".py",
   "mimetype": "text/x-python",
   "name": "python",
   "nbconvert_exporter": "python",
   "pygments_lexer": "ipython3",
   "version": "3.10.7"
  },
  "orig_nbformat": 4,
  "vscode": {
   "interpreter": {
    "hash": "d3e10ef16274dd72e574b8fa73b58450b957d8421a2901baded3cca26fcf5dda"
   }
  }
 },
 "nbformat": 4,
 "nbformat_minor": 2
}
